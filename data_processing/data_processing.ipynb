{
 "cells": [
  {
   "cell_type": "code",
   "execution_count": 1,
   "metadata": {},
   "outputs": [],
   "source": [
    "import os\n",
    "import numpy as np\n",
    "import csv\n",
    "import pandas as pd\n",
    "import math"
   ]
  },
  {
   "cell_type": "code",
   "execution_count": 2,
   "metadata": {},
   "outputs": [
    {
     "data": {
      "text/plain": [
       "['2018', '2019', '2020', '2021', '2022', '2023']"
      ]
     },
     "execution_count": 2,
     "metadata": {},
     "output_type": "execute_result"
    }
   ],
   "source": [
    "def get_year_list(dir = \"data\"):\n",
    "    return os.listdir(dir)\n",
    "\n",
    "get_year_list()\n"
   ]
  },
  {
   "cell_type": "code",
   "execution_count": 3,
   "metadata": {},
   "outputs": [
    {
     "name": "stdout",
     "output_type": "stream",
     "text": [
      "['三義', '三重', '中壢', '中山', '二林', '仁武', '冬山', '前金', '前鎮', '南投', '古亭', '善化', '嘉義', '土城', '埔里', '基隆', '士林', '大同', '大園', '大寮', '大里', '安南', '宜蘭', '富貴角', '小港', '屏東', '崙背', '左營', '平鎮', '彰化', '復興', '忠明', '恆春', '斗六', '新店', '新港', '新營', '新竹', '新莊', '朴子', '松山', '板橋', '林口', '林園', '桃園', '楠梓', '橋頭', '永和', '汐止', '沙鹿', '淡水', '湖口', '潮州', '竹山', '竹東', '線西', '美濃', '臺南', '臺東', '臺西', '花蓮', '苗栗', '菜寮', '萬華', '萬里', '西屯', '觀音', '豐原', '金門', '關山', '陽明', '頭份', '馬公', '馬祖', '鳳山', '麥寮', '龍潭']\n"
     ]
    }
   ],
   "source": [
    "def get_station_list(year = 'homo' , dir = \"data\"): \n",
    "    data = year if (year != 'homo') else get_year_list()[-1]\n",
    "    station_list = os.listdir(dir + \"/\" + data)\n",
    "    tmp_lst = []\n",
    "    for z in station_list:\n",
    "        tmp_lst.append(z[:-9])\n",
    "    return tmp_lst\n",
    "print(get_station_list('2022'))"
   ]
  },
  {
   "cell_type": "code",
   "execution_count": 4,
   "metadata": {},
   "outputs": [
    {
     "name": "stdout",
     "output_type": "stream",
     "text": [
      "['AMB_TEMP', 'CH4', 'CO', 'NMHC', 'NO', 'NO2', 'NOx', 'O3', 'PM10', 'PM2.5', 'RAINFALL', 'RH', 'SO2', 'THC', 'WD_HR', 'WIND_DIREC', 'WIND_SPEED', 'WS_HR']\n"
     ]
    }
   ],
   "source": [
    "def get_parameters(station = 'homo' , year='homo', dir=\"data\"):\n",
    "\n",
    "    year = year if (year != 'homo') else get_year_list()[-1]\n",
    "    station = station if (station != 'homo') else get_station_list()[-1]\n",
    "\n",
    "    file = dir + '/' + year + '/' + station + '_' + year + '.csv'\n",
    "    param_list = []\n",
    "    with open(file, newline='' , encoding = 'utf-8-sig') as csvfile:\n",
    "        kiwi = csv.reader(csvfile, delimiter=',')\n",
    "        next(kiwi)\n",
    "        for row in kiwi:\n",
    "            berry = row[2]\n",
    "            if(berry in param_list):\n",
    "                break\n",
    "            param_list.append(berry)\n",
    "    return param_list\n",
    "\n",
    "print(get_parameters('新竹' , '2018'))"
   ]
  },
  {
   "cell_type": "code",
   "execution_count": 5,
   "metadata": {},
   "outputs": [],
   "source": [
    "def process_file(station_id, year, dir=\"data\"):\n",
    "    station = get_station_list(year)[station_id]\n",
    "    param_list = get_parameters( station , year , dir)\n",
    "    berry = {}\n",
    "    sum_param = {}\n",
    "    val_count = {} \n",
    "    avg_param = {}\n",
    "    for p in param_list:\n",
    "        berry[p] = []\n",
    "        sum_param[p] = 0\n",
    "        val_count[p] = 0\n",
    "    \n",
    "    file = dir + '/' + year + '/' + station + '_' + year + '.csv'\n",
    "    with open(file, newline='', encoding='utf-8-sig') as csvfile:\n",
    "        kiwi = csv.reader(csvfile, delimiter=',')\n",
    "        next(kiwi)\n",
    "        for row in kiwi:\n",
    "            if(len(row) == 0):\n",
    "                break\n",
    "            param = row[2]\n",
    "            for t in range(24):\n",
    "                data = row[t + 3]\n",
    "                try:\n",
    "                    sum_param[param] += float(data)\n",
    "                    val_count[param] += 1\n",
    "                except ValueError:\n",
    "                    data = \"yarimasune\"\n",
    "                berry[param].append(data)\n",
    "    content = []\n",
    "    for param in param_list:\n",
    "        data_size = len(berry[param])\n",
    "        l = len(content)\n",
    "        content.append([param])\n",
    "        avg_param[param] = round(sum_param[param] / val_count[param] , 1)\n",
    "        for i in range(data_size):\n",
    "            if(berry[param][i] == \"yarimasune\"):\n",
    "                content[l].append(avg_param[param])\n",
    "                berry[param][i] = avg_param[param]\n",
    "            else:\n",
    "                content[l].append(float(berry[param][i]))\n",
    "                berry[param][i] = float(berry[param][i])\n",
    "\n",
    "    y_list = ['next_O3' , 'next_PM2.5' , 'next_PM10' , 'next_CO' , 'next_SO2' ,'next_NO2']\n",
    "    for y in y_list:\n",
    "        l = len(content)\n",
    "        content.append([y])\n",
    "        if (y == 'next_O3'):\n",
    "            x_param = \"O3\"\n",
    "            for i in range(1 , len(berry[x_param])):\n",
    "                content[l].append(berry[x_param][i])\n",
    "            content[l].append(avg_param[x_param])\n",
    "\n",
    "        elif (y == 'next_PM2.5'):\n",
    "            x_param = \"PM2.5\"\n",
    "            for i in range(11):\n",
    "                content[l].append(avg_param[x_param])\n",
    "            for i in range(12, len(berry[x_param])):\n",
    "                mean_12_prev = sum(berry[x_param][i-12:i]) / 12\n",
    "                mean_4_prev = sum(berry[x_param][i-4:i]) / 4 \n",
    "                weighted_mean = (mean_12_prev * 0.5) + (mean_4_prev * 0.5)\n",
    "                content[l].append(round(weighted_mean , 1))\n",
    "            content[l].append(avg_param[x_param])\n",
    "\n",
    "        elif(y == 'next_PM10'):\n",
    "            x_param = \"PM10\"\n",
    "            for i in range(11):\n",
    "                content[l].append(avg_param[x_param])\n",
    "            for i in range(12, len(berry[x_param])):\n",
    "                mean_12_prev = sum(berry[x_param][i-12:i]) / 12\n",
    "                mean_4_prev = sum(berry[x_param][i-4:i]) / 4\n",
    "                weighted_mean = (mean_12_prev * 0.5) + (mean_4_prev * 0.5)\n",
    "                content[l].append(round(weighted_mean , 1))\n",
    "            content[l].append(avg_param[x_param])\n",
    "\n",
    "        elif(y == 'next_CO'):\n",
    "            x_param = \"CO\"\n",
    "            for i in range(7):\n",
    "                content[l].append(avg_param[x_param])\n",
    "            for i in range(8, len(berry[x_param])):\n",
    "                content[l].append( round(sum(berry[x_param][i-8:i]) / 8  , 1))\n",
    "            content[l].append(avg_param[x_param])\n",
    "\n",
    "        elif(y == 'next_SO2'):\n",
    "            x_param = \"SO2\"\n",
    "            for i in range(1 , len(berry[x_param])):\n",
    "                content[l].append(berry[x_param][i])\n",
    "            content[l].append(avg_param[x_param])\n",
    "\n",
    "        elif(y == 'next_NO2'):\n",
    "            x_param = \"NO2\"\n",
    "            for i in range(1 , len(berry[x_param])):\n",
    "                content[l].append(berry[x_param][i])\n",
    "            content[l].append(avg_param[x_param])\n",
    "            \n",
    "    return np.array(content).T\n",
    "\n",
    "# process_file(37, '2023')"
   ]
  },
  {
   "cell_type": "code",
   "execution_count": 6,
   "metadata": {},
   "outputs": [],
   "source": [
    "def SplitData(data, split_ratio):\n",
    "    ll = len(data)\n",
    "    k = int(ll * split_ratio)\n",
    "    a = data[:k]\n",
    "    b = data[k:]\n",
    "    return a , b"
   ]
  },
  {
   "cell_type": "code",
   "execution_count": 7,
   "metadata": {},
   "outputs": [],
   "source": [
    "content = np.array([[0,0,0,0,0,0,0,0,0,0,0,0,0,0,0,0,0,0,0,0,0,0,0,0]])\n",
    "for year in get_year_list():\n",
    "    content = np.vstack( (content , process_file(37, year)[1:]) )\n",
    "content = content[1:]\n",
    "# np.random.shuffle(content)\n",
    "train_data,validation_data = SplitData(content , 0.8)\n",
    "\n",
    "head = np.array([['AMB_TEMP', 'CH4', 'CO', 'NMHC', 'NO', 'NO2', 'NOx', 'O3', 'PM10',\n",
    "       'PM2.5', 'RAINFALL', 'RH', 'SO2', 'THC', 'WD_HR', 'WIND_DIREC',\n",
    "       'WIND_SPEED', 'WS_HR', 'next_O3', 'next_PM2.5', 'next_PM10',\n",
    "       'next_CO', 'next_SO2', 'next_NO2']])\n",
    "\n",
    "with open('output.csv', 'w', newline='') as csvfile:\n",
    "    writer = csv.writer(csvfile, delimiter=',')\n",
    "    writer.writerows(head)\n",
    "    writer.writerows(content)\n",
    "\n",
    "with open('data_train.csv', 'w', newline='') as csvfile:\n",
    "    writer = csv.writer(csvfile, delimiter=',')\n",
    "    writer.writerows(head)\n",
    "    writer.writerows(train_data)\n",
    "\n",
    "with open('data_validation.csv', 'w', newline='') as csvfile:\n",
    "    writer = csv.writer(csvfile, delimiter=',')\n",
    "    writer.writerows(head)\n",
    "    writer.writerows(validation_data)"
   ]
  }
 ],
 "metadata": {
  "kernelspec": {
   "display_name": "Python 3",
   "language": "python",
   "name": "python3"
  },
  "language_info": {
   "codemirror_mode": {
    "name": "ipython",
    "version": 3
   },
   "file_extension": ".py",
   "mimetype": "text/x-python",
   "name": "python",
   "nbconvert_exporter": "python",
   "pygments_lexer": "ipython3",
   "version": "3.13.1"
  }
 },
 "nbformat": 4,
 "nbformat_minor": 2
}
