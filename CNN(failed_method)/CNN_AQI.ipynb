{
  "cells": [
    {
      "cell_type": "code",
      "execution_count": 22,
      "metadata": {
        "id": "fmTH9UkeqdYf"
      },
      "outputs": [],
      "source": [
        "import os\n",
        "import math\n",
        "import numpy as np\n",
        "import pandas as pd\n",
        "import matplotlib.pyplot as plt\n",
        "from sklearn.model_selection import train_test_split\n",
        "\n",
        "output = {}\n",
        "seed = 1\n",
        "np.random.seed(seed)"
      ]
    },
    {
      "cell_type": "code",
      "execution_count": 23,
      "metadata": {
        "id": "ujnEQ37WxKBL"
      },
      "outputs": [],
      "source": [
        "import numpy as np\n",
        "\n",
        "class Activation():\n",
        "    def __init__(self, activation_function, loss_function):\n",
        "        self.activation_function = activation_function\n",
        "        self.loss_function = loss_function\n",
        "        self.cache = None\n",
        "\n",
        "    def forward(self, Z):\n",
        "        if self.activation_function == \"sigmoid\":\n",
        "            A = np.where(Z >= 0, 1 / (1 + np.exp(-Z)), np.exp(Z) / (1 + np.exp(Z)))\n",
        "            self.cache = Z\n",
        "            return A\n",
        "\n",
        "        elif self.activation_function == \"relu\":\n",
        "            A = np.where(Z >= 0, Z, 0)\n",
        "            self.cache = Z\n",
        "            assert(A.shape == Z.shape)\n",
        "            return A\n",
        "\n",
        "        elif self.activation_function == \"softmax\":\n",
        "            A = np.exp(Z - np.max(Z, axis=1, keepdims=True)) / np.sum(np.exp(Z - np.max(Z, axis=1, keepdims=True)), axis=1, keepdims=True)\n",
        "            self.cache = Z\n",
        "            return A\n",
        "\n",
        "        elif self.activation_function == \"linear\":\n",
        "            self.cache = Z.copy()\n",
        "            return Z\n",
        "\n",
        "        else:\n",
        "            raise ValueError(f\"Unsupported activation function: {self.activation_function}\")\n",
        "\n",
        "\n",
        "    def backward(self, dA=None, Y=None):\n",
        "        if self.activation_function == \"sigmoid\":\n",
        "            Z = self.cache\n",
        "            dZ = dA * self.forward(Z) * (1 - self.forward(Z))\n",
        "            assert (dZ.shape == Z.shape)\n",
        "            return dZ\n",
        "\n",
        "        elif self.activation_function == \"relu\":\n",
        "            Z = self.cache\n",
        "            dZ = np.where(Z > 0, dA, 0)\n",
        "            assert (dZ.shape == Z.shape)\n",
        "            return dZ\n",
        "\n",
        "        elif self.activation_function == \"softmax\":\n",
        "            Z = self.cache\n",
        "            s = self.forward(Z)\n",
        "            dZ = s - Y\n",
        "            assert (dZ.shape == self.cache.shape)\n",
        "            return dZ\n",
        "\n",
        "        elif self.activation_function == \"linear\":\n",
        "            return dA\n",
        "\n",
        "        else:\n",
        "            raise ValueError(f\"Unsupported activation function: {self.activation_function}\")"
      ]
    },
    {
      "cell_type": "code",
      "execution_count": 24,
      "metadata": {
        "id": "xHBpx8BTxH1J"
      },
      "outputs": [],
      "source": [
        "import numpy as np\n",
        "\n",
        "class Dense():\n",
        "    def __init__(self, n_x, n_y, seed=1):\n",
        "        self.n_x = n_x\n",
        "        self.n_y = n_y\n",
        "        self.seed = seed\n",
        "        self.initialize_parameters()\n",
        "\n",
        "    def initialize_parameters(self):\n",
        "        sd = np.sqrt(6.0 / (self.n_x + self.n_y))\n",
        "        np.random.seed(self.seed)\n",
        "        W = np.random.uniform(-sd, sd, (self.n_y, self.n_x)).T\n",
        "        b = np.zeros((1, self.n_y))\n",
        "        assert(W.shape == (self.n_x, self.n_y))\n",
        "        assert(b.shape == (1, self.n_y))\n",
        "        self.parameters = {\"W\": W, \"b\": b}\n",
        "\n",
        "    def forward(self, A):\n",
        "        Z = np.dot(A, self.parameters[\"W\"]) + self.parameters[\"b\"]\n",
        "        self.cache = (A, self.parameters[\"W\"], self.parameters[\"b\"])\n",
        "        assert(Z.shape == (A.shape[0], self.parameters[\"W\"].shape[1]))\n",
        "        return Z\n",
        "\n",
        "    def backward(self, dZ):\n",
        "        A_prev, W, b = self.cache\n",
        "        m = A_prev.shape[0]\n",
        "        self.dW = np.dot(A_prev.T, dZ) / m\n",
        "        self.db = np.sum(dZ, axis=0, keepdims=True) / m\n",
        "        dA_prev = np.dot(dZ, W.T)\n",
        "        assert (dA_prev.shape == A_prev.shape)\n",
        "        assert (self.dW.shape == self.parameters[\"W\"].shape)\n",
        "        assert (self.db.shape == self.parameters[\"b\"].shape)\n",
        "        return dA_prev\n",
        "\n",
        "    def update(self, learning_rate):\n",
        "        self.parameters[\"W\"] = self.parameters[\"W\"] - learning_rate * self.dW\n",
        "        self.parameters[\"b\"] = self.parameters[\"b\"] - learning_rate * self.db\n"
      ]
    },
    {
      "cell_type": "code",
      "execution_count": 25,
      "metadata": {
        "id": "tkxJMnqNxB05"
      },
      "outputs": [],
      "source": [
        "def predict(model, X, y=None):\n",
        "    predictions = model.forward(X)\n",
        "    if y is not None:\n",
        "        mae = np.mean(np.abs(predictions - y))\n",
        "        print(\"Mean Absolute Error:\", mae)\n",
        "    return predictions"
      ]
    },
    {
      "cell_type": "code",
      "execution_count": 26,
      "metadata": {
        "id": "jKgrQiDViDwR"
      },
      "outputs": [],
      "source": [
        "def compute_MSE_loss(AL, Y):\n",
        "    m = Y.shape[0]\n",
        "    loss = (1/m) * np.sum(np.square(AL - Y))\n",
        "    return loss\n",
        "\n",
        "def compute_MAE_loss(AL, Y):\n",
        "    m = Y.shape[0]\n",
        "    loss = (1/m) * np.sum(np.abs(AL - Y))\n",
        "    return loss"
      ]
    },
    {
      "cell_type": "code",
      "execution_count": 27,
      "metadata": {
        "id": "rClniXjDQo1x"
      },
      "outputs": [],
      "source": [
        "class Conv():\n",
        "    def __init__(self, filter_size=2, input_channel=3, output_channel=8, pad=1, stride=1, seed=1):\n",
        "        self.filter_size= filter_size\n",
        "        self.input_channel=input_channel\n",
        "        self.output_channel=output_channel\n",
        "        self.seed = seed\n",
        "        self.pad = pad\n",
        "        self.stride = stride\n",
        "        self.parameters = {'W':None, 'b': None}\n",
        "        self.initialize_parameters()\n",
        "\n",
        "    def initialize_parameters(self):\n",
        "        np.random.seed(seed)\n",
        "        sd = np.sqrt(6.0 / (self.input_channel + self.output_channel))\n",
        "        W = np.random.uniform(-sd, sd, (self.filter_size,self.filter_size,self.input_channel,self.output_channel))\n",
        "        b = np.zeros((1, 1, 1, self.output_channel))\n",
        "        assert(W.shape == (self.filter_size,self.filter_size,self.input_channel,self.output_channel))\n",
        "        assert(b.shape == (1,1,1,self.output_channel))\n",
        "        self.parameters['W'] = W\n",
        "        self.parameters['b'] = b"
      ]
    },
    {
      "cell_type": "code",
      "execution_count": 28,
      "metadata": {
        "id": "ADlgENHVRQvG"
      },
      "outputs": [],
      "source": [
        "def zero_pad(X, pad):\n",
        "    X_pad = np.zeros((X.shape[0], X.shape[1] + 2*pad, X.shape[2] + 2*pad, X.shape[3]))\n",
        "    X_pad[:, pad:-pad, pad:-pad, :] = X\n",
        "    return X_pad"
      ]
    },
    {
      "cell_type": "code",
      "execution_count": 29,
      "metadata": {
        "id": "vQzL2D3yQo1y"
      },
      "outputs": [],
      "source": [
        "def conv_single_step(self, a_slice_prev, W, b):\n",
        "        sum = np.multiply(a_slice_prev, W)\n",
        "        Z = np.sum(sum)\n",
        "        Z = Z + float(b)\n",
        "        return Z\n",
        "\n",
        "Conv.conv_single_step = conv_single_step"
      ]
    },
    {
      "cell_type": "code",
      "execution_count": 30,
      "metadata": {
        "id": "H0SJ42G2Qo1z"
      },
      "outputs": [],
      "source": [
        "def forward(self, A_prev):\n",
        "    (m, n_H_prev, n_W_prev, n_C_prev) = A_prev.shape\n",
        "    (f, f, n_C_prev, n_C) = self.parameters['W'].shape\n",
        "    pad = self.pad\n",
        "    stride = self.stride\n",
        "    n_H = int((n_H_prev - f + 2 * pad) / stride) + 1\n",
        "    n_W = int((n_W_prev - f + 2 * pad) / stride) + 1\n",
        "    Z = np.zeros((m, n_H, n_W, n_C))\n",
        "    A_prev_pad = zero_pad(A_prev, pad)\n",
        "    for i in range(m):\n",
        "        for h in range(n_H):\n",
        "            for w in range(n_W):\n",
        "                for c in range(n_C):\n",
        "                    vert_start = h * stride\n",
        "                    vert_end = vert_start + f\n",
        "                    horiz_start = w * stride\n",
        "                    horiz_end = horiz_start + f\n",
        "                    a_slice_prev = A_prev_pad[i, vert_start:vert_end, horiz_start:horiz_end, :]\n",
        "                    Z[i, h, w, c] = self.conv_single_step(a_slice_prev, self.parameters['W'][:,:,:,c], self.parameters['b'][:,:,:,c])\n",
        "    assert(Z.shape == (m, n_H, n_W, n_C))\n",
        "    self.cache = A_prev\n",
        "    return Z\n",
        "\n",
        "Conv.forward = forward"
      ]
    },
    {
      "cell_type": "code",
      "execution_count": 31,
      "metadata": {
        "id": "TPrUOk-cQo1z"
      },
      "outputs": [],
      "source": [
        "def backward(self, dZ):\n",
        "    A_prev = self.cache\n",
        "    (m, n_H_prev, n_W_prev, n_C_prev) = A_prev.shape\n",
        "    (f, f, n_C_prev, n_C) = self.parameters['W'].shape\n",
        "    (m, n_H, n_W, n_C) = dZ.shape\n",
        "    dA_prev = np.zeros((m, n_H_prev, n_W_prev, n_C_prev))\n",
        "    dW = np.zeros((f, f, n_C_prev, n_C))\n",
        "    db = np.zeros((1, 1, 1, n_C))\n",
        "    A_prev_pad = zero_pad(A_prev, pad=self.pad)\n",
        "    dA_prev_pad = zero_pad(dA_prev, pad=self.pad)\n",
        "    for i in range(m):\n",
        "        a_prev_pad = A_prev_pad[i]\n",
        "        da_prev_pad = dA_prev_pad[i]\n",
        "\n",
        "        for h in range(n_H):\n",
        "            for w in range(n_W):\n",
        "                for c in range(n_C):\n",
        "                    vert_start = h * self.stride\n",
        "                    vert_end = vert_start + f\n",
        "                    horiz_start = w * self.stride\n",
        "                    horiz_end = horiz_start + f\n",
        "                    a_slice = a_prev_pad[vert_start:vert_end, horiz_start:horiz_end, :]\n",
        "\n",
        "                    da_prev_pad[vert_start:vert_end, horiz_start:horiz_end, :] += self.parameters['W'][:,:,:,c] * dZ[i, h, w, c]\n",
        "                    dW[:,:,:,c] += a_slice * dZ[i, h, w, c] / m\n",
        "                    db[:,:,:,c] += dZ[i, h, w, c] / m\n",
        "        dA_prev[i, :, :, :] = da_prev_pad[self.pad:-self.pad, self.pad:-self.pad, :]\n",
        "    assert(dA_prev.shape == (m, n_H_prev, n_W_prev, n_C_prev))\n",
        "    self.dW = dW\n",
        "    self.db = db\n",
        "    return dA_prev\n",
        "Conv.backward = backward"
      ]
    },
    {
      "cell_type": "code",
      "execution_count": 32,
      "metadata": {
        "id": "jF5XbAziQo10"
      },
      "outputs": [],
      "source": [
        "def update(self, learning_rate):\n",
        "    self.parameters[\"W\"] = self.parameters[\"W\"] - learning_rate * self.dW\n",
        "    self.parameters[\"b\"] = self.parameters[\"b\"] - learning_rate * self.db\n",
        "Conv.update = update"
      ]
    },
    {
      "cell_type": "code",
      "execution_count": 33,
      "metadata": {
        "id": "yjg2Lh6qQo11"
      },
      "outputs": [],
      "source": [
        "class MaxPool():\n",
        "    def __init__(self, pool_size=2, stride=2):\n",
        "        self.pool_size = pool_size\n",
        "        self.stride = stride\n",
        "\n",
        "    def create_mask_from_window(self, x):\n",
        "        mask = x == np.max(x)\n",
        "        return mask"
      ]
    },
    {
      "cell_type": "code",
      "execution_count": 34,
      "metadata": {
        "id": "WAX5OHXgQo11"
      },
      "outputs": [],
      "source": [
        "def forward(self, A_prev):\n",
        "    (m, n_H_prev, n_W_prev, n_C_prev) = A_prev.shape\n",
        "    n_H = int((n_H_prev - self.pool_size) / self.stride) + 1\n",
        "    n_W = int((n_W_prev - self.pool_size) / self.stride) + 1\n",
        "    n_C = n_C_prev\n",
        "    A = np.zeros((m, n_H, n_W, n_C))\n",
        "\n",
        "    for i in range(m):\n",
        "        for h in range(n_H):\n",
        "            for w in range(n_W):\n",
        "                for c in range (n_C):\n",
        "                    vert_start = h * self.stride\n",
        "                    vert_end = vert_start + self.pool_size\n",
        "                    horiz_start = w * self.stride\n",
        "                    horiz_end = horiz_start + self.pool_size\n",
        "                    a_prev_slice = A_prev[i, vert_start:vert_end, horiz_start:horiz_end, c]\n",
        "                    A[i, h, w, c] = np.max(a_prev_slice)\n",
        "    self.cache = A_prev\n",
        "    assert(A.shape == (m, n_H, n_W, n_C))\n",
        "    return A\n",
        "\n",
        "MaxPool.forward = forward"
      ]
    },
    {
      "cell_type": "code",
      "execution_count": 35,
      "metadata": {
        "id": "dZbg-lrFQo12"
      },
      "outputs": [],
      "source": [
        "def backward(self, dA):\n",
        "    A_prev = self.cache\n",
        "    m, n_H_prev, n_W_prev, n_C_prev = A_prev.shape\n",
        "    m, n_H, n_W, n_C = dA.shape\n",
        "    dA_prev = np.zeros(A_prev.shape)\n",
        "    for i in range(m):\n",
        "        for h in range(n_H):\n",
        "            for w in range(n_W):\n",
        "                for c in range (n_C):\n",
        "                    vert_start = h * self.stride\n",
        "                    vert_end = vert_start + self.pool_size\n",
        "                    horiz_start = w * self.stride\n",
        "                    horiz_end = horiz_start + self.pool_size\n",
        "                    a_prev_slice = A_prev[i, vert_start:vert_end, horiz_start:horiz_end, c]\n",
        "                    mask = self.create_mask_from_window(a_prev_slice)\n",
        "                    dA_prev[i, vert_start:vert_end, horiz_start:horiz_end, c] += np.multiply(mask, dA[i, h, w, c])\n",
        "    assert(dA_prev.shape == A_prev.shape)\n",
        "    return dA_prev\n",
        "\n",
        "MaxPool.backward = backward"
      ]
    },
    {
      "cell_type": "code",
      "execution_count": 36,
      "metadata": {
        "id": "e1K19Y_SQo12"
      },
      "outputs": [],
      "source": [
        "class Flatten():\n",
        "    def __init__(self):\n",
        "        pass"
      ]
    },
    {
      "cell_type": "code",
      "execution_count": 37,
      "metadata": {
        "id": "5aw8ZJ9WQo13"
      },
      "outputs": [],
      "source": [
        "def forward(self, A_prev):\n",
        "    self.cache = A_prev.shape\n",
        "    A = A_prev.reshape(A_prev.shape[0], -1)\n",
        "    return A\n",
        "\n",
        "Flatten.forward = forward"
      ]
    },
    {
      "cell_type": "code",
      "execution_count": 38,
      "metadata": {
        "id": "iL1MguUlQo13"
      },
      "outputs": [],
      "source": [
        "def backward(self, dA):\n",
        "    dA_prev = dA.reshape(self.cache)\n",
        "    return dA_prev\n",
        "\n",
        "Flatten.backward = backward"
      ]
    },
    {
      "cell_type": "code",
      "execution_count": 39,
      "metadata": {
        "id": "7dWrCCkPRQvK"
      },
      "outputs": [],
      "source": [
        "class Model():\n",
        "    def __init__(self):\n",
        "        self.layers=[]\n",
        "\n",
        "    def add(self, layer):\n",
        "        self.layers.append(layer)\n",
        "\n",
        "    def forward(self, X):\n",
        "        A = X\n",
        "        for l in range(len(self.layers)):\n",
        "            A = self.layers[l].forward(A)\n",
        "        return A\n",
        "\n",
        "    def backward(self, AL=None, Y=None):\n",
        "        L = len(self.layers)\n",
        "        epsilon = 1e-5\n",
        "        dAL = -(np.divide(Y, AL+epsilon) - np.divide(1 - Y, 1 - AL+epsilon))\n",
        "        dA_prev = self.layers[L-1].backward(dAL)\n",
        "        for l in reversed(range(L-1)):\n",
        "            dA_prev = self.layers[l].backward(dA_prev)\n",
        "        return dA_prev\n",
        "\n",
        "    def update(self, learning_rate):\n",
        "        for l in range(len(self.layers)):\n",
        "            if self.layers[l].__class__.__name__ == \"Conv\" or self.layers[l].__class__.__name__ == \"Dense\":\n",
        "              self.layers[l].update(learning_rate)\n"
      ]
    },
    {
      "cell_type": "markdown",
      "metadata": {
        "id": "QgGA_11RUe7H"
      },
      "source": [
        "讀取空氣品質資料，從csv改為npz"
      ]
    },
    {
      "cell_type": "code",
      "execution_count": 40,
      "metadata": {
        "id": "HYdpp2Q0sKl8"
      },
      "outputs": [],
      "source": [
        "def AQI_calculator(O3, PM25, PM10, CO, SO2, NO2):\n",
        "  table_of_AQI  = [0, 51, 101, 151, 201, 301, 401]\n",
        "  table_of_O3  = [0, 55, 125, 165, 205, 405, 505]       #ppb\n",
        "  table_of_PM25 = [0, 15.5, 35.5, 54.5, 150.5, 250.5, 350.5]  #ug/m3\n",
        "  table_of_PM10 = [0, 51, 101, 255, 355, 425, 505]       #ug/m3\n",
        "  table_of_CO  = [0, 4.5, 9.5, 12.5, 15.5, 30.5, 40.5]    #ppm\n",
        "  table_of_SO2  = [0, 21, 76, 186, 305, 605, 805]       #ppb\n",
        "  table_of_NO2  = [0, 31, 101, 361, 650, 1250, 1650]     #ppb\n",
        "\n",
        "  #O3\n",
        "  O3_AQI = 0\n",
        "  PM25_AQI = 0\n",
        "  PM10_AQI = 0\n",
        "  CO_AQI = 0\n",
        "  SO2_AQI = 0\n",
        "  NO2_AQI = 0\n",
        "\n",
        "  for i in range (6):\n",
        "    if table_of_O3[i] <= O3 < table_of_O3[i+1]:\n",
        "      O3_AQI = table_of_AQI[i] + (O3 - table_of_O3[i])*(table_of_AQI[i+1] - table_of_AQI[i])/(table_of_O3[i+1] - table_of_O3[i])\n",
        "\n",
        "    if table_of_PM25[i] <= PM25 < table_of_PM25[i+1]:\n",
        "      PM25_AQI = table_of_AQI[i] + (PM25 - table_of_PM25[i])*(table_of_AQI[i+1] - table_of_AQI[i])/(table_of_PM25[i+1] - table_of_PM25[i])\n",
        "\n",
        "    if table_of_PM10[i] <= PM10 < table_of_PM10[i+1]:\n",
        "      PM10_AQI = table_of_AQI[i] + (PM10 - table_of_PM10[i])*(table_of_AQI[i+1] - table_of_AQI[i])/(table_of_PM10[i+1] - table_of_PM10[i])\n",
        "\n",
        "    if table_of_CO[i] <= CO < table_of_CO[i+1]:\n",
        "      CO_AQI = table_of_AQI[i] + (CO - table_of_CO[i])*(table_of_AQI[i+1] - table_of_AQI[i])/(table_of_CO[i+1] - table_of_CO[i])\n",
        "\n",
        "    if table_of_SO2[i] <= SO2 < table_of_SO2[i+1]:\n",
        "      SO2_AQI = table_of_AQI[i] + (SO2 - table_of_SO2[i])*(table_of_AQI[i+1] - table_of_AQI[i])/(table_of_SO2[i+1] - table_of_SO2[i])\n",
        "\n",
        "    if table_of_NO2[i] <= NO2 < table_of_NO2[i+1]:\n",
        "      NO2_AQI = table_of_AQI[i] + (NO2 - table_of_NO2[i])*(table_of_AQI[i+1] - table_of_AQI[i])/(table_of_NO2[i+1] - table_of_NO2[i])\n",
        "\n",
        "  AQI = max(O3_AQI, PM25_AQI, PM10_AQI, CO_AQI, SO2_AQI, NO2_AQI)\n",
        "  return int(AQI)"
      ]
    },
    {
      "cell_type": "code",
      "execution_count": 41,
      "metadata": {
        "colab": {
          "base_uri": "https://localhost:8080/",
          "height": 356
        },
        "id": "nztp4ZYOUXUZ",
        "outputId": "5bd848b4-32f4-4e93-859e-fffc450f6f27"
      },
      "outputs": [
        {
          "name": "stdout",
          "output_type": "stream",
          "text": [
            "KeysView(NpzFile 'newdata.npz' with keys: X, y)\n",
            "asdfyu\n",
            "(52464, 1, 18, 1)\n",
            "First few X values: [[15.4   1.81  0.34  0.06  0.3   8.2   8.4  38.9  71.   21.7   0.   72.9\n",
            "   2.7   1.87 64.   66.    4.2   3.3 ]\n",
            " [15.4   1.81  0.32  0.06  0.    7.3   7.3  40.3  65.   22.6   0.   72.6\n",
            "   2.7   1.87 64.   67.    3.9   3.  ]\n",
            " [15.3   1.81  0.34  0.06  0.    7.4   7.1  39.6  56.   17.1   0.   72.5\n",
            "   2.4   1.87 60.   53.    3.6   2.8 ]\n",
            " [15.3   1.8   0.32  0.06  0.    7.2   7.   40.4  57.   16.2   0.   72.4\n",
            "   2.5   1.86 65.   72.    3.7   2.8 ]\n",
            " [15.3   1.8   0.29  0.06  0.    5.9   5.9  41.5  55.   15.3   0.   73.5\n",
            "   2.5   1.86 63.   64.    3.1   2.5 ]]\n",
            "First few y values: [[40.3 19.7 35.5  0.4  2.7  7.3]\n",
            " [39.6 19.7 35.5  0.4  2.4  7.4]\n",
            " [40.4 19.7 35.5  0.4  2.5  7.2]\n",
            " [41.5 19.7 35.5  0.4  2.5  5.9]\n",
            " [40.2 19.7 35.5  0.4  2.4  6. ]]\n",
            "(52464, 18)\n",
            "(52464, 6)\n"
          ]
        }
      ],
      "source": [
        "np.set_printoptions(suppress = True,precision=4)\n",
        "df = pd.read_csv('output.csv', sep=\",\")\n",
        "\n",
        "# 取除最後 6 列外的所有列作為特徵\n",
        "x = df.iloc[:, :-6].values\n",
        "# 取最後 6 列作為標籤（預測目標）\n",
        "y = df.iloc[:, -6:].values\n",
        "\n",
        "# 儲存為 .npz 文件\n",
        "np.savez('newdata.npz', X=x, y=y)\n",
        "\n",
        "# 載入 .npz 文件\n",
        "data = np.load('newdata.npz', allow_pickle=True)\n",
        "# 查看文件中的所有鍵\n",
        "print(data.keys())\n",
        "\n",
        "# 載入後檢查數據\n",
        "X_train = data['X']\n",
        "X_train_reshaped = X_train.reshape(X_train.shape[0], 1, 18, 1)\n",
        "print(\"asdfyu\")\n",
        "print(X_train_reshaped.shape)\n",
        "y_train = data['y']\n",
        "y_train_reshaped = np.zeros((y_train.shape[0],1))\n",
        "for i in range(y_train.shape[0]):\n",
        "  y_train_reshaped[i,0] = AQI_calculator(y_train[i,0], y_train[i,1], y_train[i,2], y_train[i,3], y_train[i,4], y_train[i,5])\n",
        "\n",
        "# 檢查前幾個 X 和 y 的值\n",
        "print('First few X values:', X_train[:5])\n",
        "print('First few y values:', y_train[:5])\n",
        "\n",
        "# 顯示 X 和 y 資料的形狀\n",
        "print(X_train.shape)  # 顯示 X 資料的形狀\n",
        "print(y_train.shape)  # 顯示 y 資料的形狀\n"
      ]
    },
    {
      "cell_type": "code",
      "execution_count": 42,
      "metadata": {
        "colab": {
          "base_uri": "https://localhost:8080/",
          "height": 211
        },
        "id": "LTZ4JKCoQo14",
        "outputId": "17c5ac6b-e96a-4b58-9d10-70697c736f04"
      },
      "outputs": [
        {
          "data": {
            "image/png": "[encoded data removed]",
            "text/plain": [
              "<Figure size 640x480 with 9 Axes>"
            ]
          },
          "metadata": {},
          "output_type": "display_data"
        }
      ],
      "source": [
        "num_features = X_train.shape[1]\n",
        "\n",
        "for i in range(9):\n",
        "    plt.subplot(330 + 1 + i)\n",
        "\n",
        "    # 將 X_loaded[i] 顯示為條形圖\n",
        "    plt.bar(range(num_features), X_train[i])\n",
        "\n",
        "    # 添加標題\n",
        "    plt.title(f\"Label: {y_train[i]}\")\n",
        "    plt.xticks(rotation=90)\n",
        "\n",
        "# 顯示圖形\n",
        "plt.tight_layout()\n",
        "plt.show()"
      ]
    },
    {
      "cell_type": "code",
      "execution_count": 43,
      "metadata": {
        "colab": {
          "base_uri": "https://localhost:8080/"
        },
        "id": "2_51OTHk-RDQ",
        "outputId": "2db32412-f569-4079-fcdf-d7f2c362bb62"
      },
      "outputs": [
        {
          "data": {
            "text/plain": [
              "37"
            ]
          },
          "execution_count": 43,
          "metadata": {},
          "output_type": "execute_result"
        }
      ],
      "source": [
        "AQI_calculator(40.4, 8.1, 12.7, 0.2, 0.5, 6.8)"
      ]
    },
    {
      "cell_type": "code",
      "execution_count": 44,
      "metadata": {
        "id": "LVTeqK9TqMwP"
      },
      "outputs": [],
      "source": [
        "def random_mini_batches(X, Y, mini_batch_size = 64):\n",
        "    m = X.shape[0]\n",
        "    mini_batches = []\n",
        "    permutation = list(np.random.permutation(m))\n",
        "    shuffled_X = X[permutation,:]\n",
        "    shuffled_Y = Y[permutation,:]\n",
        "    inc = mini_batch_size\n",
        "    num_complete_minibatches = math.floor(m / mini_batch_size)\n",
        "\n",
        "    for k in range(0, num_complete_minibatches):\n",
        "        mini_batch_X = shuffled_X[k*inc:(k+1)*inc,:]\n",
        "        mini_batch_Y = shuffled_Y[k*inc:(k+1)*inc,:]\n",
        "        mini_batch = (mini_batch_X, mini_batch_Y)\n",
        "        mini_batches.append(mini_batch)\n",
        "\n",
        "    if m % mini_batch_size != 0:\n",
        "        mini_batch_X = shuffled_X[num_complete_minibatches*inc:,:]\n",
        "        mini_batch_Y = shuffled_Y[num_complete_minibatches*inc:,:]\n",
        "        mini_batch = (mini_batch_X, mini_batch_Y)\n",
        "        mini_batches.append(mini_batch)\n",
        "\n",
        "\n",
        "    return mini_batches"
      ]
    },
    {
      "cell_type": "code",
      "execution_count": null,
      "metadata": {
        "colab": {
          "base_uri": "https://localhost:8080/",
          "height": 228
        },
        "id": "1CBktduDyKd6",
        "outputId": "dd2afe00-0f47-42e7-93f9-804a28ad8eeb"
      },
      "outputs": [],
      "source": [
        "learning_rate = 0.0001\n",
        "num_iterations = 1\n",
        "batch_size = 64\n",
        "costs = []\n",
        "\n",
        "model = Model()\n",
        "model.add(Conv(filter_size=3, input_channel=1, output_channel=16, pad=1, stride=2))\n",
        "model.add(Activation(\"relu\", None))\n",
        "model.add(MaxPool(pool_size=2, stride=2))\n",
        "\n",
        "model.add(Conv(filter_size=3, input_channel=16, output_channel=64, pad=1, stride=2))\n",
        "model.add(Activation(\"relu\", None))\n",
        "model.add(MaxPool(pool_size=2, stride=2))\n",
        "\n",
        "model.add(Flatten())\n",
        "\n",
        "model.add(Dense(64, 1))\n",
        "model.add(Activation(\"relu\", None))\n",
        "\n",
        "\n",
        "\n",
        "\n",
        "for i in range(0, num_iterations):\n",
        "    print(\"epoch: \",i)\n",
        "    mini_batches = random_mini_batches(X_train_reshaped, y_train_reshaped, batch_size)\n",
        "\n",
        "    for batch in mini_batches:\n",
        "        x_batch, y_batch = batch\n",
        "        AL = model.forward(x_batch)\n",
        "        cost = compute_MAE_loss(AL, y_batch)\n",
        "        dA_prev = model.backward(AL=AL, Y=y_batch)\n",
        "        model.update(learning_rate)\n",
        "\n",
        "    print (\"Cost after iteration %i: %f\" %(i, cost))\n",
        "    costs.append(cost)\n",
        "\n"
      ]
    },
    {
      "cell_type": "code",
      "execution_count": null,
      "metadata": {
        "colab": {
          "base_uri": "https://localhost:8080/",
          "height": 648
        },
        "id": "wzGHGrASQo15",
        "outputId": "568a59a0-b619-471a-d93a-312cc873ebd0"
      },
      "outputs": [
        {
          "data": {
            "image/png": "[encoded data removed]",
            "text/plain": [
              "<Figure size 640x480 with 1 Axes>"
            ]
          },
          "metadata": {},
          "output_type": "display_data"
        },
        {
          "name": "stdout",
          "output_type": "stream",
          "text": [
            "training------\n"
          ]
        },
        {
          "ename": "NameError",
          "evalue": "name 'X_train_reshaped' is not defined",
          "output_type": "error",
          "traceback": [
            "\u001b[0;31m---------------------------------------------------------------------------\u001b[0m",
            "\u001b[0;31mNameError\u001b[0m                                 Traceback (most recent call last)",
            "\u001b[0;32m<ipython-input-51-afcbe97f7352>\u001b[0m in \u001b[0;36m<cell line: 8>\u001b[0;34m()\u001b[0m\n\u001b[1;32m      6\u001b[0m \u001b[0;34m\u001b[0m\u001b[0m\n\u001b[1;32m      7\u001b[0m \u001b[0mprint\u001b[0m\u001b[0;34m(\u001b[0m\u001b[0;34m'training------'\u001b[0m\u001b[0;34m)\u001b[0m\u001b[0;34m\u001b[0m\u001b[0;34m\u001b[0m\u001b[0m\n\u001b[0;32m----> 8\u001b[0;31m \u001b[0mpred_train\u001b[0m \u001b[0;34m=\u001b[0m \u001b[0mpredict\u001b[0m\u001b[0;34m(\u001b[0m\u001b[0mmodel\u001b[0m\u001b[0;34m,\u001b[0m \u001b[0mX_train_reshaped\u001b[0m\u001b[0;34m,\u001b[0m \u001b[0my_train_reshaped\u001b[0m\u001b[0;34m)\u001b[0m\u001b[0;34m\u001b[0m\u001b[0;34m\u001b[0m\u001b[0m\n\u001b[0m",
            "\u001b[0;31mNameError\u001b[0m: name 'X_train_reshaped' is not defined"
          ]
        }
      ],
      "source": [
        "plt.plot(np.squeeze(costs))\n",
        "plt.ylabel('cost')\n",
        "plt.xlabel('iterations (per hundreds)')\n",
        "plt.title(\"Learning rate =\" + str(learning_rate))\n",
        "plt.show()\n",
        "\n",
        "print('training------')\n",
        "pred_train = predict(model, X_train_reshaped, y_train_reshaped)\n"
      ]
    },
    {
      "cell_type": "code",
      "execution_count": null,
      "metadata": {
        "colab": {
          "base_uri": "https://localhost:8080/",
          "height": 211
        },
        "id": "wKcWJUu8Qo15",
        "outputId": "3a20ad19-0b11-4986-8b42-1e87d550f871"
      },
      "outputs": [
        {
          "ename": "NameError",
          "evalue": "name 'X_test' is not defined",
          "output_type": "error",
          "traceback": [
            "\u001b[0;31m---------------------------------------------------------------------------\u001b[0m",
            "\u001b[0;31mNameError\u001b[0m                                 Traceback (most recent call last)",
            "\u001b[0;32m<ipython-input-52-bbab20fb5dd6>\u001b[0m in \u001b[0;36m<cell line: 1>\u001b[0;34m()\u001b[0m\n\u001b[0;32m----> 1\u001b[0;31m \u001b[0mpred_test\u001b[0m \u001b[0;34m=\u001b[0m \u001b[0mpredict\u001b[0m\u001b[0;34m(\u001b[0m\u001b[0mmodel\u001b[0m\u001b[0;34m,\u001b[0m \u001b[0mX_test\u001b[0m\u001b[0;34m)\u001b[0m\u001b[0;34m\u001b[0m\u001b[0;34m\u001b[0m\u001b[0m\n\u001b[0m\u001b[1;32m      2\u001b[0m df = pd.DataFrame({\n\u001b[1;32m      3\u001b[0m     \u001b[0;34m'ID'\u001b[0m\u001b[0;34m:\u001b[0m \u001b[0mrange\u001b[0m\u001b[0;34m(\u001b[0m\u001b[0mlen\u001b[0m\u001b[0;34m(\u001b[0m\u001b[0mX_test\u001b[0m\u001b[0;34m)\u001b[0m\u001b[0;34m)\u001b[0m\u001b[0;34m,\u001b[0m\u001b[0;34m\u001b[0m\u001b[0;34m\u001b[0m\u001b[0m\n\u001b[1;32m      4\u001b[0m     \u001b[0;34m'Label'\u001b[0m\u001b[0;34m:\u001b[0m \u001b[0mpred_test\u001b[0m\u001b[0;34m.\u001b[0m\u001b[0mastype\u001b[0m\u001b[0;34m(\u001b[0m\u001b[0mint\u001b[0m\u001b[0;34m)\u001b[0m\u001b[0;34m.\u001b[0m\u001b[0mflatten\u001b[0m\u001b[0;34m(\u001b[0m\u001b[0;34m)\u001b[0m\u001b[0;34m\u001b[0m\u001b[0;34m\u001b[0m\u001b[0m\n\u001b[1;32m      5\u001b[0m })\n",
            "\u001b[0;31mNameError\u001b[0m: name 'X_test' is not defined"
          ]
        }
      ],
      "source": [
        "pred_test = predict(model, X_test)\n",
        "df = pd.DataFrame({\n",
        "    'ID': range(len(X_test)),\n",
        "    'Label': pred_test.astype(int).flatten()\n",
        "})\n",
        "df.to_csv('CNN_AQI.csv', index=False, mode='w')"
      ]
    }
  ],
  "metadata": {
    "colab": {
      "provenance": []
    },
    "kernelspec": {
      "display_name": "Python 3",
      "language": "python",
      "name": "python3"
    },
    "language_info": {
      "codemirror_mode": {
        "name": "ipython",
        "version": 3
      },
      "file_extension": ".py",
      "mimetype": "text/x-python",
      "name": "python",
      "nbconvert_exporter": "python",
      "pygments_lexer": "ipython3",
      "version": "3.13.1"
    }
  },
  "nbformat": 4,
  "nbformat_minor": 0
}
